{
 "cells": [
  {
   "cell_type": "markdown",
   "metadata": {},
   "source": [
    "* `import liberaries`"
   ]
  },
  {
   "cell_type": "code",
   "execution_count": 1,
   "metadata": {},
   "outputs": [],
   "source": [
    "import numpy as np\n",
    "import pandas as pd\n",
    "import matplotlib.pyplot as plt\n",
    "import seaborn as sns\n",
    "import os\n"
   ]
  },
  {
   "cell_type": "code",
   "execution_count": 2,
   "metadata": {},
   "outputs": [
    {
     "data": {
      "text/plain": [
       "'c:\\\\Users\\\\LORD TRADE\\\\Desktop\\\\graduation\\\\dataset\\\\our_dataset.csv'"
      ]
     },
     "execution_count": 2,
     "metadata": {},
     "output_type": "execute_result"
    }
   ],
   "source": [
    "path=os.path.join(os.getcwd() ,'dataset' , 'our_dataset.csv')\n",
    "df =pd.read_csv(path)\n",
    "path"
   ]
  },
  {
   "cell_type": "markdown",
   "metadata": {},
   "source": [
    "* `Explore The Data`"
   ]
  },
  {
   "cell_type": "code",
   "execution_count": 3,
   "metadata": {},
   "outputs": [
    {
     "data": {
      "text/html": [
       "<div>\n",
       "<style scoped>\n",
       "    .dataframe tbody tr th:only-of-type {\n",
       "        vertical-align: middle;\n",
       "    }\n",
       "\n",
       "    .dataframe tbody tr th {\n",
       "        vertical-align: top;\n",
       "    }\n",
       "\n",
       "    .dataframe thead th {\n",
       "        text-align: right;\n",
       "    }\n",
       "</style>\n",
       "<table border=\"1\" class=\"dataframe\">\n",
       "  <thead>\n",
       "    <tr style=\"text-align: right;\">\n",
       "      <th></th>\n",
       "      <th>ID_Ra</th>\n",
       "      <th>Navn</th>\n",
       "      <th>DSK Kategori</th>\n",
       "      <th>Name</th>\n",
       "      <th>Category</th>\n",
       "      <th>Total kg CO2-eq/kg</th>\n",
       "      <th>Agriculture</th>\n",
       "      <th>iLUC</th>\n",
       "      <th>Food processing</th>\n",
       "      <th>Packaging</th>\n",
       "      <th>Transport</th>\n",
       "      <th>Retail</th>\n",
       "      <th>Energy (KJ/100 g)</th>\n",
       "      <th>Fat (g/100 g)</th>\n",
       "      <th>Carbohydrate (g/100 g)</th>\n",
       "      <th>Protein (g/100 g)</th>\n",
       "      <th>ID_food</th>\n",
       "      <th>ID_pack</th>\n",
       "      <th>ID_retail</th>\n",
       "      <th>Unnamed: 19</th>\n",
       "    </tr>\n",
       "  </thead>\n",
       "  <tbody>\n",
       "    <tr>\n",
       "      <th>0</th>\n",
       "      <td>Ra00001</td>\n",
       "      <td>Peberfrugt, rød, rå</td>\n",
       "      <td>Grøntsager</td>\n",
       "      <td>Pepper, sweet, red, raw</td>\n",
       "      <td>Vegetables</td>\n",
       "      <td>1.07</td>\n",
       "      <td>0.61</td>\n",
       "      <td>0.04</td>\n",
       "      <td>0.0</td>\n",
       "      <td>0.14</td>\n",
       "      <td>0.28</td>\n",
       "      <td>0.01</td>\n",
       "      <td>133.0</td>\n",
       "      <td>0.1</td>\n",
       "      <td>5.2</td>\n",
       "      <td>0.9</td>\n",
       "      <td>Cm039</td>\n",
       "      <td>Pa059</td>\n",
       "      <td>Ma0332</td>\n",
       "      <td>NaN</td>\n",
       "    </tr>\n",
       "    <tr>\n",
       "      <th>1</th>\n",
       "      <td>Ra00002</td>\n",
       "      <td>Tomat, uspec., rå</td>\n",
       "      <td>Grøntsager</td>\n",
       "      <td>Tomato, ripe, raw, origin unknown</td>\n",
       "      <td>Vegetables</td>\n",
       "      <td>0.48</td>\n",
       "      <td>0.21</td>\n",
       "      <td>0.01</td>\n",
       "      <td>0.0</td>\n",
       "      <td>0.14</td>\n",
       "      <td>0.11</td>\n",
       "      <td>0.01</td>\n",
       "      <td>87.0</td>\n",
       "      <td>0.1</td>\n",
       "      <td>3.2</td>\n",
       "      <td>0.8</td>\n",
       "      <td>Cm167</td>\n",
       "      <td>Pa059</td>\n",
       "      <td>Ma0332</td>\n",
       "      <td>NaN</td>\n",
       "    </tr>\n",
       "    <tr>\n",
       "      <th>2</th>\n",
       "      <td>Ra00003</td>\n",
       "      <td>Squash, rå</td>\n",
       "      <td>Grøntsager</td>\n",
       "      <td>Squash, raw</td>\n",
       "      <td>Vegetables</td>\n",
       "      <td>0.84</td>\n",
       "      <td>0.48</td>\n",
       "      <td>0.04</td>\n",
       "      <td>0.0</td>\n",
       "      <td>0.06</td>\n",
       "      <td>0.25</td>\n",
       "      <td>0.01</td>\n",
       "      <td>81.0</td>\n",
       "      <td>0.2</td>\n",
       "      <td>2.4</td>\n",
       "      <td>1.4</td>\n",
       "      <td>Cm135</td>\n",
       "      <td>Pa040</td>\n",
       "      <td>Ma0332</td>\n",
       "      <td>NaN</td>\n",
       "    </tr>\n",
       "    <tr>\n",
       "      <th>3</th>\n",
       "      <td>Ra00004</td>\n",
       "      <td>Aubergine, rå</td>\n",
       "      <td>Grøntsager</td>\n",
       "      <td>Aubergine, raw</td>\n",
       "      <td>Vegetables</td>\n",
       "      <td>0.99</td>\n",
       "      <td>0.51</td>\n",
       "      <td>0.03</td>\n",
       "      <td>0.0</td>\n",
       "      <td>0.14</td>\n",
       "      <td>0.30</td>\n",
       "      <td>0.01</td>\n",
       "      <td>83.0</td>\n",
       "      <td>0.1</td>\n",
       "      <td>3.1</td>\n",
       "      <td>0.9</td>\n",
       "      <td>Cm056</td>\n",
       "      <td>Pa059</td>\n",
       "      <td>Ma0332</td>\n",
       "      <td>NaN</td>\n",
       "    </tr>\n",
       "    <tr>\n",
       "      <th>4</th>\n",
       "      <td>Ra00005</td>\n",
       "      <td>Tomat, soltørret</td>\n",
       "      <td>Grøntsager</td>\n",
       "      <td>Tomato, dried</td>\n",
       "      <td>Vegetables</td>\n",
       "      <td>2.72</td>\n",
       "      <td>2.04</td>\n",
       "      <td>0.09</td>\n",
       "      <td>0.0</td>\n",
       "      <td>0.26</td>\n",
       "      <td>0.33</td>\n",
       "      <td>0.01</td>\n",
       "      <td>1187.0</td>\n",
       "      <td>3.0</td>\n",
       "      <td>43.5</td>\n",
       "      <td>14.1</td>\n",
       "      <td>Fa0152</td>\n",
       "      <td>Pa066</td>\n",
       "      <td>Ma0332</td>\n",
       "      <td>NaN</td>\n",
       "    </tr>\n",
       "    <tr>\n",
       "      <th>...</th>\n",
       "      <td>...</td>\n",
       "      <td>...</td>\n",
       "      <td>...</td>\n",
       "      <td>...</td>\n",
       "      <td>...</td>\n",
       "      <td>...</td>\n",
       "      <td>...</td>\n",
       "      <td>...</td>\n",
       "      <td>...</td>\n",
       "      <td>...</td>\n",
       "      <td>...</td>\n",
       "      <td>...</td>\n",
       "      <td>...</td>\n",
       "      <td>...</td>\n",
       "      <td>...</td>\n",
       "      <td>...</td>\n",
       "      <td>...</td>\n",
       "      <td>...</td>\n",
       "      <td>...</td>\n",
       "      <td>...</td>\n",
       "    </tr>\n",
       "    <tr>\n",
       "      <th>536</th>\n",
       "      <td>Ra00537</td>\n",
       "      <td>NaN</td>\n",
       "      <td>NaN</td>\n",
       "      <td>Gouda cheese</td>\n",
       "      <td>Milk/eggs/substitute products</td>\n",
       "      <td>NaN</td>\n",
       "      <td>NaN</td>\n",
       "      <td>NaN</td>\n",
       "      <td>NaN</td>\n",
       "      <td>NaN</td>\n",
       "      <td>NaN</td>\n",
       "      <td>NaN</td>\n",
       "      <td>1660.0</td>\n",
       "      <td>33.0</td>\n",
       "      <td>2</td>\n",
       "      <td>24</td>\n",
       "      <td>Fa0492</td>\n",
       "      <td>Pa066</td>\n",
       "      <td>Ma0333</td>\n",
       "      <td>NaN</td>\n",
       "    </tr>\n",
       "    <tr>\n",
       "      <th>537</th>\n",
       "      <td>Ra00538</td>\n",
       "      <td>NaN</td>\n",
       "      <td>NaN</td>\n",
       "      <td>Fruit syrup</td>\n",
       "      <td>Candy/sugar products</td>\n",
       "      <td>NaN</td>\n",
       "      <td>NaN</td>\n",
       "      <td>NaN</td>\n",
       "      <td>NaN</td>\n",
       "      <td>NaN</td>\n",
       "      <td>NaN</td>\n",
       "      <td>NaN</td>\n",
       "      <td>1000.0</td>\n",
       "      <td>0.0</td>\n",
       "      <td>60</td>\n",
       "      <td>0</td>\n",
       "      <td>Fa0493</td>\n",
       "      <td>Pa024</td>\n",
       "      <td>Ma0332</td>\n",
       "      <td>NaN</td>\n",
       "    </tr>\n",
       "    <tr>\n",
       "      <th>538</th>\n",
       "      <td>Ra00539</td>\n",
       "      <td>NaN</td>\n",
       "      <td>NaN</td>\n",
       "      <td>Rookworst</td>\n",
       "      <td>Meat/poultry</td>\n",
       "      <td>NaN</td>\n",
       "      <td>NaN</td>\n",
       "      <td>NaN</td>\n",
       "      <td>NaN</td>\n",
       "      <td>NaN</td>\n",
       "      <td>NaN</td>\n",
       "      <td>NaN</td>\n",
       "      <td>1100.0</td>\n",
       "      <td>23.0</td>\n",
       "      <td>2</td>\n",
       "      <td>12</td>\n",
       "      <td>Fa0494</td>\n",
       "      <td>Pa034</td>\n",
       "      <td>Ma0333</td>\n",
       "      <td>NaN</td>\n",
       "    </tr>\n",
       "    <tr>\n",
       "      <th>539</th>\n",
       "      <td>Ra00540</td>\n",
       "      <td>NaN</td>\n",
       "      <td>NaN</td>\n",
       "      <td>Herring, pickled, jar glass in NL</td>\n",
       "      <td>Seafood</td>\n",
       "      <td>NaN</td>\n",
       "      <td>NaN</td>\n",
       "      <td>NaN</td>\n",
       "      <td>NaN</td>\n",
       "      <td>NaN</td>\n",
       "      <td>NaN</td>\n",
       "      <td>NaN</td>\n",
       "      <td>840.0</td>\n",
       "      <td>17.0</td>\n",
       "      <td>1</td>\n",
       "      <td>14</td>\n",
       "      <td>Fa0495</td>\n",
       "      <td>Pa021</td>\n",
       "      <td>Ma0333</td>\n",
       "      <td>NaN</td>\n",
       "    </tr>\n",
       "    <tr>\n",
       "      <th>540</th>\n",
       "      <td>NaN</td>\n",
       "      <td>NaN</td>\n",
       "      <td>NaN</td>\n",
       "      <td>NaN</td>\n",
       "      <td>NaN</td>\n",
       "      <td>NaN</td>\n",
       "      <td>NaN</td>\n",
       "      <td>NaN</td>\n",
       "      <td>NaN</td>\n",
       "      <td>NaN</td>\n",
       "      <td>NaN</td>\n",
       "      <td>NaN</td>\n",
       "      <td>NaN</td>\n",
       "      <td>NaN</td>\n",
       "      <td>NaN</td>\n",
       "      <td>NaN</td>\n",
       "      <td>NaN</td>\n",
       "      <td>NaN</td>\n",
       "      <td>NaN</td>\n",
       "      <td>NaN</td>\n",
       "    </tr>\n",
       "  </tbody>\n",
       "</table>\n",
       "<p>541 rows × 20 columns</p>\n",
       "</div>"
      ],
      "text/plain": [
       "       ID_Ra                 Navn DSK Kategori  \\\n",
       "0    Ra00001  Peberfrugt, rød, rå   Grøntsager   \n",
       "1    Ra00002    Tomat, uspec., rå   Grøntsager   \n",
       "2    Ra00003           Squash, rå   Grøntsager   \n",
       "3    Ra00004        Aubergine, rå   Grøntsager   \n",
       "4    Ra00005     Tomat, soltørret   Grøntsager   \n",
       "..       ...                  ...          ...   \n",
       "536  Ra00537                  NaN          NaN   \n",
       "537  Ra00538                  NaN          NaN   \n",
       "538  Ra00539                  NaN          NaN   \n",
       "539  Ra00540                  NaN          NaN   \n",
       "540      NaN                  NaN          NaN   \n",
       "\n",
       "                                  Name                        Category  \\\n",
       "0              Pepper, sweet, red, raw                      Vegetables   \n",
       "1    Tomato, ripe, raw, origin unknown                      Vegetables   \n",
       "2                          Squash, raw                      Vegetables   \n",
       "3                       Aubergine, raw                      Vegetables   \n",
       "4                        Tomato, dried                      Vegetables   \n",
       "..                                 ...                             ...   \n",
       "536                       Gouda cheese  Milk/eggs/substitute products    \n",
       "537                        Fruit syrup           Candy/sugar products    \n",
       "538                          Rookworst                    Meat/poultry   \n",
       "539  Herring, pickled, jar glass in NL                        Seafood    \n",
       "540                                NaN                             NaN   \n",
       "\n",
       "     Total kg CO2-eq/kg  Agriculture  iLUC  Food processing  Packaging  \\\n",
       "0                  1.07         0.61  0.04              0.0       0.14   \n",
       "1                  0.48         0.21  0.01              0.0       0.14   \n",
       "2                  0.84         0.48  0.04              0.0       0.06   \n",
       "3                  0.99         0.51  0.03              0.0       0.14   \n",
       "4                  2.72         2.04  0.09              0.0       0.26   \n",
       "..                  ...          ...   ...              ...        ...   \n",
       "536                 NaN          NaN   NaN              NaN        NaN   \n",
       "537                 NaN          NaN   NaN              NaN        NaN   \n",
       "538                 NaN          NaN   NaN              NaN        NaN   \n",
       "539                 NaN          NaN   NaN              NaN        NaN   \n",
       "540                 NaN          NaN   NaN              NaN        NaN   \n",
       "\n",
       "     Transport  Retail  Energy (KJ/100 g)  Fat (g/100 g)  \\\n",
       "0         0.28    0.01              133.0            0.1   \n",
       "1         0.11    0.01               87.0            0.1   \n",
       "2         0.25    0.01               81.0            0.2   \n",
       "3         0.30    0.01               83.0            0.1   \n",
       "4         0.33    0.01             1187.0            3.0   \n",
       "..         ...     ...                ...            ...   \n",
       "536        NaN     NaN             1660.0           33.0   \n",
       "537        NaN     NaN             1000.0            0.0   \n",
       "538        NaN     NaN             1100.0           23.0   \n",
       "539        NaN     NaN              840.0           17.0   \n",
       "540        NaN     NaN                NaN            NaN   \n",
       "\n",
       "    Carbohydrate (g/100 g) Protein (g/100 g) ID_food ID_pack ID_retail  \\\n",
       "0                      5.2               0.9   Cm039   Pa059    Ma0332   \n",
       "1                      3.2               0.8   Cm167   Pa059    Ma0332   \n",
       "2                      2.4               1.4   Cm135   Pa040    Ma0332   \n",
       "3                      3.1               0.9   Cm056   Pa059    Ma0332   \n",
       "4                     43.5              14.1  Fa0152   Pa066    Ma0332   \n",
       "..                     ...               ...     ...     ...       ...   \n",
       "536                      2                24  Fa0492   Pa066    Ma0333   \n",
       "537                     60                 0  Fa0493   Pa024    Ma0332   \n",
       "538                      2                12  Fa0494   Pa034    Ma0333   \n",
       "539                      1                14  Fa0495   Pa021    Ma0333   \n",
       "540                    NaN               NaN     NaN     NaN       NaN   \n",
       "\n",
       "     Unnamed: 19  \n",
       "0            NaN  \n",
       "1            NaN  \n",
       "2            NaN  \n",
       "3            NaN  \n",
       "4            NaN  \n",
       "..           ...  \n",
       "536          NaN  \n",
       "537          NaN  \n",
       "538          NaN  \n",
       "539          NaN  \n",
       "540          NaN  \n",
       "\n",
       "[541 rows x 20 columns]"
      ]
     },
     "execution_count": 3,
     "metadata": {},
     "output_type": "execute_result"
    }
   ],
   "source": [
    "df"
   ]
  },
  {
   "cell_type": "code",
   "execution_count": 4,
   "metadata": {},
   "outputs": [
    {
     "name": "stdout",
     "output_type": "stream",
     "text": [
      "<class 'pandas.core.frame.DataFrame'>\n",
      "RangeIndex: 541 entries, 0 to 540\n",
      "Data columns (total 20 columns):\n",
      " #   Column                  Non-Null Count  Dtype  \n",
      "---  ------                  --------------  -----  \n",
      " 0   ID_Ra                   540 non-null    object \n",
      " 1   Navn                    500 non-null    object \n",
      " 2   DSK Kategori            500 non-null    object \n",
      " 3   Name                    540 non-null    object \n",
      " 4   Category                540 non-null    object \n",
      " 5   Total kg CO2-eq/kg      505 non-null    float64\n",
      " 6   Agriculture             505 non-null    float64\n",
      " 7   iLUC                    505 non-null    float64\n",
      " 8   Food processing         505 non-null    float64\n",
      " 9   Packaging               505 non-null    float64\n",
      " 10  Transport               505 non-null    float64\n",
      " 11  Retail                  505 non-null    float64\n",
      " 12  Energy (KJ/100 g)       540 non-null    float64\n",
      " 13  Fat (g/100 g)           540 non-null    float64\n",
      " 14  Carbohydrate (g/100 g)  540 non-null    object \n",
      " 15  Protein (g/100 g)       540 non-null    object \n",
      " 16  ID_food                 540 non-null    object \n",
      " 17  ID_pack                 536 non-null    object \n",
      " 18  ID_retail               539 non-null    object \n",
      " 19  Unnamed: 19             0 non-null      float64\n",
      "dtypes: float64(10), object(10)\n",
      "memory usage: 84.7+ KB\n"
     ]
    }
   ],
   "source": [
    "df.info()"
   ]
  },
  {
   "cell_type": "code",
   "execution_count": 5,
   "metadata": {},
   "outputs": [
    {
     "data": {
      "text/plain": [
       "Index(['ID_Ra', 'Navn', 'DSK Kategori', 'Name', 'Category',\n",
       "       'Total kg CO2-eq/kg', 'Agriculture', 'iLUC', 'Food processing',\n",
       "       'Packaging', 'Transport', 'Retail', 'Energy (KJ/100 g)',\n",
       "       'Fat (g/100 g)', 'Carbohydrate (g/100 g)', 'Protein (g/100 g)',\n",
       "       'ID_food', 'ID_pack', 'ID_retail', 'Unnamed: 19'],\n",
       "      dtype='object')"
      ]
     },
     "execution_count": 5,
     "metadata": {},
     "output_type": "execute_result"
    }
   ],
   "source": [
    "df.columns"
   ]
  },
  {
   "cell_type": "code",
   "execution_count": 6,
   "metadata": {},
   "outputs": [],
   "source": [
    "df.columns=df.columns.str.strip().str.lower().str.replace(' (', '(').str.replace('0 g', '0g').str.replace(' ', '_')"
   ]
  },
  {
   "cell_type": "code",
   "execution_count": 7,
   "metadata": {},
   "outputs": [
    {
     "data": {
      "text/plain": [
       "Index(['id_ra', 'navn', 'dsk_kategori', 'name', 'category',\n",
       "       'total_kg_co2-eq/kg', 'agriculture', 'iluc', 'food_processing',\n",
       "       'packaging', 'transport', 'retail', 'energy(kj/100g)', 'fat(g/100g)',\n",
       "       'carbohydrate(g/100g)', 'protein(g/100g)', 'id_food', 'id_pack',\n",
       "       'id_retail', 'unnamed:_19'],\n",
       "      dtype='object')"
      ]
     },
     "execution_count": 7,
     "metadata": {},
     "output_type": "execute_result"
    }
   ],
   "source": [
    "df.columns"
   ]
  },
  {
   "cell_type": "markdown",
   "metadata": {},
   "source": [
    "* `EDA`"
   ]
  },
  {
   "cell_type": "code",
   "execution_count": 8,
   "metadata": {},
   "outputs": [
    {
     "data": {
      "text/plain": [
       "id_ra                     1\n",
       "navn                     41\n",
       "dsk_kategori             41\n",
       "name                      1\n",
       "category                  1\n",
       "total_kg_co2-eq/kg       36\n",
       "agriculture              36\n",
       "iluc                     36\n",
       "food_processing          36\n",
       "packaging                36\n",
       "transport                36\n",
       "retail                   36\n",
       "energy(kj/100g)           1\n",
       "fat(g/100g)               1\n",
       "carbohydrate(g/100g)      1\n",
       "protein(g/100g)           1\n",
       "id_food                   1\n",
       "id_pack                   5\n",
       "id_retail                 2\n",
       "unnamed:_19             541\n",
       "dtype: int64"
      ]
     },
     "execution_count": 8,
     "metadata": {},
     "output_type": "execute_result"
    }
   ],
   "source": [
    "df.isna().sum()"
   ]
  },
  {
   "cell_type": "markdown",
   "metadata": {},
   "source": [
    "* `preprocessing`"
   ]
  },
  {
   "cell_type": "code",
   "execution_count": 9,
   "metadata": {},
   "outputs": [],
   "source": [
    "df.drop(columns=['navn','dsk_kategori','unnamed:_19','id_food','id_pack','id_retail'] , inplace=True)\n",
    "df.drop(columns=['fat(g/100g)','energy(kj/100g)','carbohydrate(g/100g)','protein(g/100g)'] , inplace=True)"
   ]
  },
  {
   "cell_type": "code",
   "execution_count": null,
   "metadata": {},
   "outputs": [],
   "source": []
  },
  {
   "cell_type": "code",
   "execution_count": 10,
   "metadata": {},
   "outputs": [],
   "source": [
    "df.drop(index=df[df['total_kg_co2-eq/kg'].isna()].index ,axis=0, inplace=True)\n"
   ]
  },
  {
   "cell_type": "code",
   "execution_count": 11,
   "metadata": {},
   "outputs": [
    {
     "name": "stdout",
     "output_type": "stream",
     "text": [
      "<class 'pandas.core.frame.DataFrame'>\n",
      "Index: 505 entries, 0 to 520\n",
      "Data columns (total 10 columns):\n",
      " #   Column              Non-Null Count  Dtype  \n",
      "---  ------              --------------  -----  \n",
      " 0   id_ra               505 non-null    object \n",
      " 1   name                505 non-null    object \n",
      " 2   category            505 non-null    object \n",
      " 3   total_kg_co2-eq/kg  505 non-null    float64\n",
      " 4   agriculture         505 non-null    float64\n",
      " 5   iluc                505 non-null    float64\n",
      " 6   food_processing     505 non-null    float64\n",
      " 7   packaging           505 non-null    float64\n",
      " 8   transport           505 non-null    float64\n",
      " 9   retail              505 non-null    float64\n",
      "dtypes: float64(7), object(3)\n",
      "memory usage: 43.4+ KB\n"
     ]
    }
   ],
   "source": [
    "df.info()"
   ]
  },
  {
   "cell_type": "code",
   "execution_count": 12,
   "metadata": {},
   "outputs": [],
   "source": [
    "df.set_index('id_ra' ,inplace=True)"
   ]
  },
  {
   "cell_type": "code",
   "execution_count": 13,
   "metadata": {},
   "outputs": [
    {
     "data": {
      "text/plain": [
       "array(['Vegetables', 'Meat/poultry', 'Beverages', 'Bread/bakery products',\n",
       "       'Cereal/grain/pulse products', 'Milk/eggs/substitute products',\n",
       "       'Seasonings/preservatives/extracts', 'Seafood',\n",
       "       'Fruit/vegetable products', 'Candy/sugar products',\n",
       "       'Prepared/preserved foods', 'Fruits', 'Oils/fats edible',\n",
       "       'Beverages '], dtype=object)"
      ]
     },
     "execution_count": 13,
     "metadata": {},
     "output_type": "execute_result"
    }
   ],
   "source": [
    "df['category'].unique()"
   ]
  },
  {
   "cell_type": "code",
   "execution_count": 14,
   "metadata": {},
   "outputs": [
    {
     "data": {
      "text/plain": [
       "['Fruit/vegetable products',\n",
       " 'Meat/poultry',\n",
       " 'Prepared/preserved foods',\n",
       " 'Vegetables',\n",
       " 'Seafood',\n",
       " 'Bread/bakery products',\n",
       " 'Beverages',\n",
       " 'Seasonings/preservatives/extracts',\n",
       " 'Milk/eggs/substitute products',\n",
       " 'Fruits',\n",
       " 'Cereal/grain/pulse products',\n",
       " 'Candy/sugar products',\n",
       " 'Oils/fats edible',\n",
       " 'Beverages ']"
      ]
     },
     "execution_count": 14,
     "metadata": {},
     "output_type": "execute_result"
    }
   ],
   "source": [
    "df['category'].value_counts().index.to_list()"
   ]
  },
  {
   "cell_type": "code",
   "execution_count": 15,
   "metadata": {},
   "outputs": [
    {
     "data": {
      "image/png": "[encoded data removed]",
      "text/plain": [
       "<Figure size 640x480 with 1 Axes>"
      ]
     },
     "metadata": {},
     "output_type": "display_data"
    }
   ],
   "source": [
    "sns.countplot(data = df , x = 'category' ,\n",
    "               order=['Fruits/vegetables','Meat/poultry','Prepared/preserved foods','Vegetables',\n",
    "                      'Seafood','Bread/bakery','Beverages','Seasonings/preservatives/extracts',\n",
    "                      'Milk/eggs/substitute','Fruits','Cereal/grain/pulse','Candy/sugar','Oils/fats edible'])\n",
    "plt.xticks(rotation=90 )\n",
    "plt.show()"
   ]
  },
  {
   "cell_type": "markdown",
   "metadata": {},
   "source": [
    "* `add a price column`"
   ]
  },
  {
   "cell_type": "code",
   "execution_count": 16,
   "metadata": {},
   "outputs": [],
   "source": [
    "base_prices = {\n",
    "    'Vegetables': 7,\n",
    "    'Meat/poultry': 170,\n",
    "    'Beverages': 12,\n",
    "    'Bread/bakery products': 4,\n",
    "    'Cereal/grain/pulse products': 12,\n",
    "    'Milk/eggs/substitute products': 18,\n",
    "    'Seasonings/preservatives/extracts': 25,\n",
    "    'Seafood': 50,\n",
    "    'Fruit/vegetable products': 8,\n",
    "    'Candy/sugar products': 10,\n",
    "    'Prepared/preserved foods': 20,\n",
    "    'Fruits': 15, \n",
    "    'Oils/fats edible': 35, \n",
    "    'Beverages': 12\n",
    "}\n",
    "\n",
    "\n",
    "def calculate_price(row):\n",
    "    base_price=base_prices.get(row['category'], 10)\n",
    "    carbon_factor=row['total_kg_co2-eq/kg'] * 1.5\n",
    "    return base_price + carbon_factor\n",
    "\n",
    "df['Price']=df.apply(calculate_price, axis=1)\n",
    "df['Price']=df['Price'].round()"
   ]
  },
  {
   "cell_type": "code",
   "execution_count": 17,
   "metadata": {},
   "outputs": [
    {
     "data": {
      "text/html": [
       "<div>\n",
       "<style scoped>\n",
       "    .dataframe tbody tr th:only-of-type {\n",
       "        vertical-align: middle;\n",
       "    }\n",
       "\n",
       "    .dataframe tbody tr th {\n",
       "        vertical-align: top;\n",
       "    }\n",
       "\n",
       "    .dataframe thead th {\n",
       "        text-align: right;\n",
       "    }\n",
       "</style>\n",
       "<table border=\"1\" class=\"dataframe\">\n",
       "  <thead>\n",
       "    <tr style=\"text-align: right;\">\n",
       "      <th></th>\n",
       "      <th>Price</th>\n",
       "    </tr>\n",
       "    <tr>\n",
       "      <th>id_ra</th>\n",
       "      <th></th>\n",
       "    </tr>\n",
       "  </thead>\n",
       "  <tbody>\n",
       "    <tr>\n",
       "      <th>Ra00001</th>\n",
       "      <td>9.0</td>\n",
       "    </tr>\n",
       "    <tr>\n",
       "      <th>Ra00002</th>\n",
       "      <td>8.0</td>\n",
       "    </tr>\n",
       "    <tr>\n",
       "      <th>Ra00003</th>\n",
       "      <td>8.0</td>\n",
       "    </tr>\n",
       "    <tr>\n",
       "      <th>Ra00004</th>\n",
       "      <td>8.0</td>\n",
       "    </tr>\n",
       "    <tr>\n",
       "      <th>Ra00005</th>\n",
       "      <td>11.0</td>\n",
       "    </tr>\n",
       "    <tr>\n",
       "      <th>...</th>\n",
       "      <td>...</td>\n",
       "    </tr>\n",
       "    <tr>\n",
       "      <th>Ra00501</th>\n",
       "      <td>177.0</td>\n",
       "    </tr>\n",
       "    <tr>\n",
       "      <th>Ra00502</th>\n",
       "      <td>175.0</td>\n",
       "    </tr>\n",
       "    <tr>\n",
       "      <th>Ra00503</th>\n",
       "      <td>282.0</td>\n",
       "    </tr>\n",
       "    <tr>\n",
       "      <th>Ra00517</th>\n",
       "      <td>11.0</td>\n",
       "    </tr>\n",
       "    <tr>\n",
       "      <th>Ra00521</th>\n",
       "      <td>28.0</td>\n",
       "    </tr>\n",
       "  </tbody>\n",
       "</table>\n",
       "<p>505 rows × 1 columns</p>\n",
       "</div>"
      ],
      "text/plain": [
       "         Price\n",
       "id_ra         \n",
       "Ra00001    9.0\n",
       "Ra00002    8.0\n",
       "Ra00003    8.0\n",
       "Ra00004    8.0\n",
       "Ra00005   11.0\n",
       "...        ...\n",
       "Ra00501  177.0\n",
       "Ra00502  175.0\n",
       "Ra00503  282.0\n",
       "Ra00517   11.0\n",
       "Ra00521   28.0\n",
       "\n",
       "[505 rows x 1 columns]"
      ]
     },
     "execution_count": 17,
     "metadata": {},
     "output_type": "execute_result"
    }
   ],
   "source": [
    "df[['Price']]"
   ]
  },
  {
   "cell_type": "markdown",
   "metadata": {},
   "source": [
    "* `clean category column` "
   ]
  },
  {
   "cell_type": "code",
   "execution_count": 18,
   "metadata": {},
   "outputs": [
    {
     "data": {
      "text/plain": [
       "array(['Vegetables', 'Meat/poultry', 'Beverages', 'Bread/bakery products',\n",
       "       'Cereal/grain/pulse products', 'Milk/eggs/substitute products',\n",
       "       'Seasonings/preservatives/extracts', 'Seafood',\n",
       "       'Fruit/vegetable products', 'Candy/sugar products',\n",
       "       'Prepared/preserved foods', 'Fruits', 'Oils/fats edible',\n",
       "       'Beverages '], dtype=object)"
      ]
     },
     "execution_count": 18,
     "metadata": {},
     "output_type": "execute_result"
    }
   ],
   "source": [
    "df['category'].unique()"
   ]
  },
  {
   "cell_type": "code",
   "execution_count": 19,
   "metadata": {},
   "outputs": [],
   "source": [
    "def clean_category(cate):\n",
    "    cate = cate.replace('products' , '')\n",
    "    cate = cate.replace('Fruit/vegetable' , 'Fruits/vegetables')\n",
    "    return cate.strip()\n"
   ]
  },
  {
   "cell_type": "code",
   "execution_count": 20,
   "metadata": {},
   "outputs": [],
   "source": [
    "df['category'] = df['category'].apply(clean_category)"
   ]
  },
  {
   "cell_type": "code",
   "execution_count": 21,
   "metadata": {},
   "outputs": [
    {
     "data": {
      "text/plain": [
       "array(['Vegetables', 'Meat/poultry', 'Beverages', 'Bread/bakery',\n",
       "       'Cereal/grain/pulse', 'Milk/eggs/substitute',\n",
       "       'Seasonings/preservatives/extracts', 'Seafood',\n",
       "       'Fruits/vegetables', 'Candy/sugar', 'Prepared/preserved foods',\n",
       "       'Fruits', 'Oils/fats edible'], dtype=object)"
      ]
     },
     "execution_count": 21,
     "metadata": {},
     "output_type": "execute_result"
    }
   ],
   "source": [
    "df['category'].unique()"
   ]
  },
  {
   "cell_type": "code",
   "execution_count": 22,
   "metadata": {},
   "outputs": [
    {
     "data": {
      "text/html": [
       "<div>\n",
       "<style scoped>\n",
       "    .dataframe tbody tr th:only-of-type {\n",
       "        vertical-align: middle;\n",
       "    }\n",
       "\n",
       "    .dataframe tbody tr th {\n",
       "        vertical-align: top;\n",
       "    }\n",
       "\n",
       "    .dataframe thead th {\n",
       "        text-align: right;\n",
       "    }\n",
       "</style>\n",
       "<table border=\"1\" class=\"dataframe\">\n",
       "  <thead>\n",
       "    <tr style=\"text-align: right;\">\n",
       "      <th></th>\n",
       "      <th>name</th>\n",
       "      <th>category</th>\n",
       "      <th>total_kg_co2-eq/kg</th>\n",
       "      <th>agriculture</th>\n",
       "      <th>iluc</th>\n",
       "      <th>food_processing</th>\n",
       "      <th>packaging</th>\n",
       "      <th>transport</th>\n",
       "      <th>retail</th>\n",
       "      <th>Price</th>\n",
       "    </tr>\n",
       "    <tr>\n",
       "      <th>id_ra</th>\n",
       "      <th></th>\n",
       "      <th></th>\n",
       "      <th></th>\n",
       "      <th></th>\n",
       "      <th></th>\n",
       "      <th></th>\n",
       "      <th></th>\n",
       "      <th></th>\n",
       "      <th></th>\n",
       "      <th></th>\n",
       "    </tr>\n",
       "  </thead>\n",
       "  <tbody>\n",
       "    <tr>\n",
       "      <th>Ra00001</th>\n",
       "      <td>Pepper, sweet, red, raw</td>\n",
       "      <td>Vegetables</td>\n",
       "      <td>1.07</td>\n",
       "      <td>0.61</td>\n",
       "      <td>0.04</td>\n",
       "      <td>0.0</td>\n",
       "      <td>0.14</td>\n",
       "      <td>0.28</td>\n",
       "      <td>0.01</td>\n",
       "      <td>9.0</td>\n",
       "    </tr>\n",
       "    <tr>\n",
       "      <th>Ra00002</th>\n",
       "      <td>Tomato, ripe, raw, origin unknown</td>\n",
       "      <td>Vegetables</td>\n",
       "      <td>0.48</td>\n",
       "      <td>0.21</td>\n",
       "      <td>0.01</td>\n",
       "      <td>0.0</td>\n",
       "      <td>0.14</td>\n",
       "      <td>0.11</td>\n",
       "      <td>0.01</td>\n",
       "      <td>8.0</td>\n",
       "    </tr>\n",
       "    <tr>\n",
       "      <th>Ra00003</th>\n",
       "      <td>Squash, raw</td>\n",
       "      <td>Vegetables</td>\n",
       "      <td>0.84</td>\n",
       "      <td>0.48</td>\n",
       "      <td>0.04</td>\n",
       "      <td>0.0</td>\n",
       "      <td>0.06</td>\n",
       "      <td>0.25</td>\n",
       "      <td>0.01</td>\n",
       "      <td>8.0</td>\n",
       "    </tr>\n",
       "    <tr>\n",
       "      <th>Ra00004</th>\n",
       "      <td>Aubergine, raw</td>\n",
       "      <td>Vegetables</td>\n",
       "      <td>0.99</td>\n",
       "      <td>0.51</td>\n",
       "      <td>0.03</td>\n",
       "      <td>0.0</td>\n",
       "      <td>0.14</td>\n",
       "      <td>0.30</td>\n",
       "      <td>0.01</td>\n",
       "      <td>8.0</td>\n",
       "    </tr>\n",
       "    <tr>\n",
       "      <th>Ra00005</th>\n",
       "      <td>Tomato, dried</td>\n",
       "      <td>Vegetables</td>\n",
       "      <td>2.72</td>\n",
       "      <td>2.04</td>\n",
       "      <td>0.09</td>\n",
       "      <td>0.0</td>\n",
       "      <td>0.26</td>\n",
       "      <td>0.33</td>\n",
       "      <td>0.01</td>\n",
       "      <td>11.0</td>\n",
       "    </tr>\n",
       "  </tbody>\n",
       "</table>\n",
       "</div>"
      ],
      "text/plain": [
       "                                      name    category  total_kg_co2-eq/kg  \\\n",
       "id_ra                                                                        \n",
       "Ra00001            Pepper, sweet, red, raw  Vegetables                1.07   \n",
       "Ra00002  Tomato, ripe, raw, origin unknown  Vegetables                0.48   \n",
       "Ra00003                        Squash, raw  Vegetables                0.84   \n",
       "Ra00004                     Aubergine, raw  Vegetables                0.99   \n",
       "Ra00005                      Tomato, dried  Vegetables                2.72   \n",
       "\n",
       "         agriculture  iluc  food_processing  packaging  transport  retail  \\\n",
       "id_ra                                                                       \n",
       "Ra00001         0.61  0.04              0.0       0.14       0.28    0.01   \n",
       "Ra00002         0.21  0.01              0.0       0.14       0.11    0.01   \n",
       "Ra00003         0.48  0.04              0.0       0.06       0.25    0.01   \n",
       "Ra00004         0.51  0.03              0.0       0.14       0.30    0.01   \n",
       "Ra00005         2.04  0.09              0.0       0.26       0.33    0.01   \n",
       "\n",
       "         Price  \n",
       "id_ra           \n",
       "Ra00001    9.0  \n",
       "Ra00002    8.0  \n",
       "Ra00003    8.0  \n",
       "Ra00004    8.0  \n",
       "Ra00005   11.0  "
      ]
     },
     "execution_count": 22,
     "metadata": {},
     "output_type": "execute_result"
    }
   ],
   "source": [
    "df.head()"
   ]
  },
  {
   "cell_type": "markdown",
   "metadata": {},
   "source": [
    "* `add StockQuantity column` "
   ]
  },
  {
   "cell_type": "code",
   "execution_count": 23,
   "metadata": {},
   "outputs": [],
   "source": [
    "df['StockQuantity'] = 300"
   ]
  },
  {
   "cell_type": "code",
   "execution_count": 24,
   "metadata": {},
   "outputs": [],
   "source": [
    "csv_path=os.path.join(os.getcwd(), 'dataset' ,\"dataset.csv\")\n",
    "df.to_csv(csv_path)"
   ]
  },
  {
   "cell_type": "code",
   "execution_count": 25,
   "metadata": {},
   "outputs": [
    {
     "data": {
      "text/plain": [
       "(505, 11)"
      ]
     },
     "execution_count": 25,
     "metadata": {},
     "output_type": "execute_result"
    }
   ],
   "source": [
    "df.shape"
   ]
  },
  {
   "cell_type": "code",
   "execution_count": null,
   "metadata": {},
   "outputs": [],
   "source": []
  },
  {
   "cell_type": "code",
   "execution_count": 26,
   "metadata": {},
   "outputs": [
    {
     "data": {
      "text/html": [
       "<div>\n",
       "<style scoped>\n",
       "    .dataframe tbody tr th:only-of-type {\n",
       "        vertical-align: middle;\n",
       "    }\n",
       "\n",
       "    .dataframe tbody tr th {\n",
       "        vertical-align: top;\n",
       "    }\n",
       "\n",
       "    .dataframe thead th {\n",
       "        text-align: right;\n",
       "    }\n",
       "</style>\n",
       "<table border=\"1\" class=\"dataframe\">\n",
       "  <thead>\n",
       "    <tr style=\"text-align: right;\">\n",
       "      <th></th>\n",
       "      <th>name</th>\n",
       "      <th>category</th>\n",
       "      <th>total_kg_co2-eq/kg</th>\n",
       "      <th>agriculture</th>\n",
       "      <th>iluc</th>\n",
       "      <th>food_processing</th>\n",
       "      <th>packaging</th>\n",
       "      <th>transport</th>\n",
       "      <th>retail</th>\n",
       "      <th>Price</th>\n",
       "      <th>StockQuantity</th>\n",
       "    </tr>\n",
       "    <tr>\n",
       "      <th>id_ra</th>\n",
       "      <th></th>\n",
       "      <th></th>\n",
       "      <th></th>\n",
       "      <th></th>\n",
       "      <th></th>\n",
       "      <th></th>\n",
       "      <th></th>\n",
       "      <th></th>\n",
       "      <th></th>\n",
       "      <th></th>\n",
       "      <th></th>\n",
       "    </tr>\n",
       "  </thead>\n",
       "  <tbody>\n",
       "    <tr>\n",
       "      <th>Ra00001</th>\n",
       "      <td>Pepper, sweet, red, raw</td>\n",
       "      <td>Vegetables</td>\n",
       "      <td>1.07</td>\n",
       "      <td>0.61</td>\n",
       "      <td>0.04</td>\n",
       "      <td>0.0</td>\n",
       "      <td>0.14</td>\n",
       "      <td>0.28</td>\n",
       "      <td>0.01</td>\n",
       "      <td>9.0</td>\n",
       "      <td>300</td>\n",
       "    </tr>\n",
       "    <tr>\n",
       "      <th>Ra00002</th>\n",
       "      <td>Tomato, ripe, raw, origin unknown</td>\n",
       "      <td>Vegetables</td>\n",
       "      <td>0.48</td>\n",
       "      <td>0.21</td>\n",
       "      <td>0.01</td>\n",
       "      <td>0.0</td>\n",
       "      <td>0.14</td>\n",
       "      <td>0.11</td>\n",
       "      <td>0.01</td>\n",
       "      <td>8.0</td>\n",
       "      <td>300</td>\n",
       "    </tr>\n",
       "    <tr>\n",
       "      <th>Ra00003</th>\n",
       "      <td>Squash, raw</td>\n",
       "      <td>Vegetables</td>\n",
       "      <td>0.84</td>\n",
       "      <td>0.48</td>\n",
       "      <td>0.04</td>\n",
       "      <td>0.0</td>\n",
       "      <td>0.06</td>\n",
       "      <td>0.25</td>\n",
       "      <td>0.01</td>\n",
       "      <td>8.0</td>\n",
       "      <td>300</td>\n",
       "    </tr>\n",
       "    <tr>\n",
       "      <th>Ra00004</th>\n",
       "      <td>Aubergine, raw</td>\n",
       "      <td>Vegetables</td>\n",
       "      <td>0.99</td>\n",
       "      <td>0.51</td>\n",
       "      <td>0.03</td>\n",
       "      <td>0.0</td>\n",
       "      <td>0.14</td>\n",
       "      <td>0.30</td>\n",
       "      <td>0.01</td>\n",
       "      <td>8.0</td>\n",
       "      <td>300</td>\n",
       "    </tr>\n",
       "    <tr>\n",
       "      <th>Ra00005</th>\n",
       "      <td>Tomato, dried</td>\n",
       "      <td>Vegetables</td>\n",
       "      <td>2.72</td>\n",
       "      <td>2.04</td>\n",
       "      <td>0.09</td>\n",
       "      <td>0.0</td>\n",
       "      <td>0.26</td>\n",
       "      <td>0.33</td>\n",
       "      <td>0.01</td>\n",
       "      <td>11.0</td>\n",
       "      <td>300</td>\n",
       "    </tr>\n",
       "  </tbody>\n",
       "</table>\n",
       "</div>"
      ],
      "text/plain": [
       "                                      name    category  total_kg_co2-eq/kg  \\\n",
       "id_ra                                                                        \n",
       "Ra00001            Pepper, sweet, red, raw  Vegetables                1.07   \n",
       "Ra00002  Tomato, ripe, raw, origin unknown  Vegetables                0.48   \n",
       "Ra00003                        Squash, raw  Vegetables                0.84   \n",
       "Ra00004                     Aubergine, raw  Vegetables                0.99   \n",
       "Ra00005                      Tomato, dried  Vegetables                2.72   \n",
       "\n",
       "         agriculture  iluc  food_processing  packaging  transport  retail  \\\n",
       "id_ra                                                                       \n",
       "Ra00001         0.61  0.04              0.0       0.14       0.28    0.01   \n",
       "Ra00002         0.21  0.01              0.0       0.14       0.11    0.01   \n",
       "Ra00003         0.48  0.04              0.0       0.06       0.25    0.01   \n",
       "Ra00004         0.51  0.03              0.0       0.14       0.30    0.01   \n",
       "Ra00005         2.04  0.09              0.0       0.26       0.33    0.01   \n",
       "\n",
       "         Price  StockQuantity  \n",
       "id_ra                          \n",
       "Ra00001    9.0            300  \n",
       "Ra00002    8.0            300  \n",
       "Ra00003    8.0            300  \n",
       "Ra00004    8.0            300  \n",
       "Ra00005   11.0            300  "
      ]
     },
     "execution_count": 26,
     "metadata": {},
     "output_type": "execute_result"
    }
   ],
   "source": [
    "df.head()"
   ]
  },
  {
   "cell_type": "code",
   "execution_count": null,
   "metadata": {},
   "outputs": [],
   "source": []
  }
 ],
 "metadata": {
  "kernelspec": {
   "display_name": "Python 3",
   "language": "python",
   "name": "python3"
  },
  "language_info": {
   "codemirror_mode": {
    "name": "ipython",
    "version": 3
   },
   "file_extension": ".py",
   "mimetype": "text/x-python",
   "name": "python",
   "nbconvert_exporter": "python",
   "pygments_lexer": "ipython3",
   "version": "3.11.9"
  }
 },
 "nbformat": 4,
 "nbformat_minor": 2
}
